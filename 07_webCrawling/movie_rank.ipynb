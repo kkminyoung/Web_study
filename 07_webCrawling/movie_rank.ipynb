{
 "cells": [
  {
   "cell_type": "code",
   "execution_count": 15,
   "metadata": {},
   "outputs": [
    {
     "name": "stdout",
     "output_type": "stream",
     "text": [
      "1 도굴\n",
      "2 내가 죽던 날\n",
      "3 삼진그룹 영어토익반\n",
      "4 극장판 바이올렛 에버가든\n",
      "5 애비규환\n",
      "6 킹덤 오브 헤븐: 디렉터스 컷\n",
      "7 노트북\n",
      "8 담보\n",
      "9 테넷\n",
      "10 극장판 바다 탐험대 옥토넛 : 대산호초 보호작전\n",
      "11 마리 퀴리\n",
      "12 미스터트롯: 더 무비\n",
      "13 그린랜드\n",
      "14 요가학원:죽음의쿤달리니\n",
      "15 뉴 뮤턴트\n",
      "16 택스 콜렉터\n",
      "17 런\n",
      "18 검객\n",
      "19 소리도 없이\n",
      "20 맹크\n",
      "21 페이트 스테이 나이트 헤븐즈필 III.스프링 송\n",
      "22 이웃사촌\n",
      "23 얼론\n",
      "24 코마\n",
      "25 나이스 걸 라이크 유\n",
      "26 조제\n",
      "27 봉쇄수도원 카르투시오\n",
      "28 엑설런트 어드벤쳐 3\n",
      "29 아치와 씨팍\n",
      "30 엠티맨\n",
      "31 안티고네\n",
      "32 구직자들\n",
      "33 걸후드\n",
      "34 윤희에게\n",
      "35 추억의 검정고무신\n",
      "36 로그\n",
      "37 피아니스트의 마지막 인터뷰\n",
      "38 서복\n",
      "39 스나이퍼: 라스트 미션\n",
      "40 뱅가드\n",
      "41 부활: 그 증거\n",
      "42 일진 나쁜녀석들\n",
      "43 밤의 문이 열린다\n",
      "44 프리키 데스데이\n",
      "45 대가리3 일진후배들\n"
     ]
    }
   ],
   "source": [
    "import requests\n",
    "from bs4 import BeautifulSoup\n",
    "url = 'https://movie.naver.com/movie/sdb/rank/rmovie.nhn'\n",
    "response= requests.get(url)\n",
    "source = response.text\n",
    "\n",
    "soup = BeautifulSoup(source, 'html.parser')\n",
    "\n",
    "top_list = soup.find_all('div', {'class':'tit3'}) \n",
    "\n",
    "rank = 1\n",
    "for i in top_list:\n",
    "    print(rank, i.text.strip())\n",
    "    rank = rank+1"
   ]
  }
 ],
 "metadata": {
  "kernelspec": {
   "display_name": "Python 3",
   "language": "python",
   "name": "python3"
  },
  "language_info": {
   "codemirror_mode": {
    "name": "ipython",
    "version": 3
   },
   "file_extension": ".py",
   "mimetype": "text/x-python",
   "name": "python",
   "nbconvert_exporter": "python",
   "pygments_lexer": "ipython3",
   "version": "3.7.6"
  }
 },
 "nbformat": 4,
 "nbformat_minor": 2
}
